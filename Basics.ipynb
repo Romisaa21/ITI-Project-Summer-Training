{
  "nbformat": 4,
  "nbformat_minor": 0,
  "metadata": {
    "colab": {
      "provenance": [],
      "authorship_tag": "ABX9TyPLrwoxdihVKipSE2KM1Uj9",
      "include_colab_link": true
    },
    "kernelspec": {
      "name": "python3",
      "display_name": "Python 3"
    },
    "language_info": {
      "name": "python"
    }
  },
  "cells": [
    {
      "cell_type": "markdown",
      "metadata": {
        "id": "view-in-github",
        "colab_type": "text"
      },
      "source": [
        "<a href=\"https://colab.research.google.com/github/Romisaa21/ITI-Project-Summer-Training/blob/main/Basics.ipynb\" target=\"_parent\"><img src=\"https://colab.research.google.com/assets/colab-badge.svg\" alt=\"Open In Colab\"/></a>"
      ]
    },
    {
      "cell_type": "code",
      "execution_count": 4,
      "metadata": {
        "id": "SWBcL4NPkQrP"
      },
      "outputs": [],
      "source": [
        "num1 = 3\n",
        "num2 = 4\n",
        "num3 = 5"
      ]
    },
    {
      "cell_type": "code",
      "source": [
        "a = num1 + num2\n",
        "a"
      ],
      "metadata": {
        "colab": {
          "base_uri": "https://localhost:8080/"
        },
        "id": "4TL5QheXl66C",
        "outputId": "dde71b6c-63cd-475d-a28e-cdc9d621fd0e"
      },
      "execution_count": 5,
      "outputs": [
        {
          "output_type": "execute_result",
          "data": {
            "text/plain": [
              "7"
            ]
          },
          "metadata": {},
          "execution_count": 5
        }
      ]
    },
    {
      "cell_type": "code",
      "source": [
        "b = num3 - num1\n",
        "b"
      ],
      "metadata": {
        "colab": {
          "base_uri": "https://localhost:8080/"
        },
        "id": "nhUUlHb9mHR9",
        "outputId": "d3b46e09-df5f-44f2-cab0-185a79f1f65e"
      },
      "execution_count": 6,
      "outputs": [
        {
          "output_type": "execute_result",
          "data": {
            "text/plain": [
              "2"
            ]
          },
          "metadata": {},
          "execution_count": 6
        }
      ]
    },
    {
      "cell_type": "code",
      "source": [
        "c = num1 * num2 + num3\n",
        "c"
      ],
      "metadata": {
        "colab": {
          "base_uri": "https://localhost:8080/"
        },
        "id": "Dq1NawqXmSl4",
        "outputId": "205d912e-351e-4561-e40e-f265c58521ef"
      },
      "execution_count": 7,
      "outputs": [
        {
          "output_type": "execute_result",
          "data": {
            "text/plain": [
              "17"
            ]
          },
          "metadata": {},
          "execution_count": 7
        }
      ]
    },
    {
      "cell_type": "code",
      "source": [
        "d = num1 * (num2 + num3)\n",
        "d"
      ],
      "metadata": {
        "colab": {
          "base_uri": "https://localhost:8080/"
        },
        "id": "7iFhHwj7mg1Q",
        "outputId": "ab43d355-adb2-431d-cec1-f3d913e9afda"
      },
      "execution_count": 8,
      "outputs": [
        {
          "output_type": "execute_result",
          "data": {
            "text/plain": [
              "27"
            ]
          },
          "metadata": {},
          "execution_count": 8
        }
      ]
    },
    {
      "cell_type": "code",
      "source": [
        "e = num3 / num1\n",
        "e"
      ],
      "metadata": {
        "colab": {
          "base_uri": "https://localhost:8080/"
        },
        "id": "tsVFkU1CmqD6",
        "outputId": "bf18bd91-9ed0-4259-fc6f-56756c632b69"
      },
      "execution_count": 9,
      "outputs": [
        {
          "output_type": "execute_result",
          "data": {
            "text/plain": [
              "1.6666666666666667"
            ]
          },
          "metadata": {},
          "execution_count": 9
        }
      ]
    },
    {
      "cell_type": "code",
      "source": [
        "f = num3 // num1\n",
        "f"
      ],
      "metadata": {
        "colab": {
          "base_uri": "https://localhost:8080/"
        },
        "id": "dmCtf36VmyW_",
        "outputId": "20595cee-92a6-4158-ee4a-b9371478569a"
      },
      "execution_count": 10,
      "outputs": [
        {
          "output_type": "execute_result",
          "data": {
            "text/plain": [
              "1"
            ]
          },
          "metadata": {},
          "execution_count": 10
        }
      ]
    },
    {
      "cell_type": "code",
      "source": [
        "g = num3 % num1\n",
        "g"
      ],
      "metadata": {
        "colab": {
          "base_uri": "https://localhost:8080/"
        },
        "id": "osfpnZ5Um_8w",
        "outputId": "022ff015-2f82-4a0e-bcfa-7ce0b0d64d6a"
      },
      "execution_count": 11,
      "outputs": [
        {
          "output_type": "execute_result",
          "data": {
            "text/plain": [
              "2"
            ]
          },
          "metadata": {},
          "execution_count": 11
        }
      ]
    },
    {
      "cell_type": "code",
      "source": [
        "num1_f = float(num1)\n",
        "num2_f = float(num2)\n",
        "num3_f = float(num3)"
      ],
      "metadata": {
        "id": "vJ0KI4OknGRw"
      },
      "execution_count": 15,
      "outputs": []
    },
    {
      "cell_type": "code",
      "source": [
        "a = num1_f + num2_f\n",
        "a"
      ],
      "metadata": {
        "colab": {
          "base_uri": "https://localhost:8080/"
        },
        "id": "v56AP3xSoD4s",
        "outputId": "89d277a7-18ac-4dd5-d3e7-93f7e017b851"
      },
      "execution_count": 16,
      "outputs": [
        {
          "output_type": "execute_result",
          "data": {
            "text/plain": [
              "7.0"
            ]
          },
          "metadata": {},
          "execution_count": 16
        }
      ]
    },
    {
      "cell_type": "code",
      "source": [
        "b = num3_f - num1_f\n",
        "b"
      ],
      "metadata": {
        "colab": {
          "base_uri": "https://localhost:8080/"
        },
        "id": "DVVkav3IoP1r",
        "outputId": "e7f1323d-41c5-476d-9205-17b96ea018a9"
      },
      "execution_count": 17,
      "outputs": [
        {
          "output_type": "execute_result",
          "data": {
            "text/plain": [
              "2.0"
            ]
          },
          "metadata": {},
          "execution_count": 17
        }
      ]
    },
    {
      "cell_type": "code",
      "source": [
        "c = num1_f * num2_f + num3_f\n",
        "c"
      ],
      "metadata": {
        "colab": {
          "base_uri": "https://localhost:8080/"
        },
        "id": "RAUzQVLLoY5f",
        "outputId": "52db0649-1437-4eb7-dd94-20c68605f2cb"
      },
      "execution_count": 19,
      "outputs": [
        {
          "output_type": "execute_result",
          "data": {
            "text/plain": [
              "17.0"
            ]
          },
          "metadata": {},
          "execution_count": 19
        }
      ]
    },
    {
      "cell_type": "code",
      "source": [
        "d = num1_f * (num2_f + num3_f)\n",
        "d"
      ],
      "metadata": {
        "colab": {
          "base_uri": "https://localhost:8080/"
        },
        "id": "n0Xz4Npcoh3e",
        "outputId": "e39518a4-9329-4b08-ff4e-d362a77870ba"
      },
      "execution_count": 20,
      "outputs": [
        {
          "output_type": "execute_result",
          "data": {
            "text/plain": [
              "27.0"
            ]
          },
          "metadata": {},
          "execution_count": 20
        }
      ]
    },
    {
      "cell_type": "code",
      "source": [
        "e = num3_f / num1_f\n",
        "e"
      ],
      "metadata": {
        "colab": {
          "base_uri": "https://localhost:8080/"
        },
        "id": "Dyx6De9rot5W",
        "outputId": "ab1de5ac-c853-4402-ae2b-8187eae50cf3"
      },
      "execution_count": 21,
      "outputs": [
        {
          "output_type": "execute_result",
          "data": {
            "text/plain": [
              "1.6666666666666667"
            ]
          },
          "metadata": {},
          "execution_count": 21
        }
      ]
    },
    {
      "cell_type": "code",
      "source": [
        "f = num3_f // num1_f\n",
        "f"
      ],
      "metadata": {
        "colab": {
          "base_uri": "https://localhost:8080/"
        },
        "id": "2G8ZSSaoozJ3",
        "outputId": "55210be6-e083-4987-ddb0-3ebfa8c55f10"
      },
      "execution_count": 23,
      "outputs": [
        {
          "output_type": "execute_result",
          "data": {
            "text/plain": [
              "1.0"
            ]
          },
          "metadata": {},
          "execution_count": 23
        }
      ]
    },
    {
      "cell_type": "code",
      "source": [
        "g = num3_f % num1_f\n",
        "g"
      ],
      "metadata": {
        "colab": {
          "base_uri": "https://localhost:8080/"
        },
        "id": "kcczRtLQo_Gy",
        "outputId": "5dedc8f0-9969-4ba3-9bef-8b0d630e5357"
      },
      "execution_count": 24,
      "outputs": [
        {
          "output_type": "execute_result",
          "data": {
            "text/plain": [
              "2.0"
            ]
          },
          "metadata": {},
          "execution_count": 24
        }
      ]
    },
    {
      "cell_type": "code",
      "source": [
        "x = 1\n",
        "y = 2\n",
        "z = 3\n",
        "g = 4"
      ],
      "metadata": {
        "id": "7gmNcvTupHKK"
      },
      "execution_count": 25,
      "outputs": []
    },
    {
      "cell_type": "code",
      "source": [
        "res1 = x + y * z / g\n",
        "res1"
      ],
      "metadata": {
        "colab": {
          "base_uri": "https://localhost:8080/"
        },
        "id": "6tB30qP4pe2Y",
        "outputId": "a88df663-04d0-4f4b-bd54-5062b2230960"
      },
      "execution_count": 26,
      "outputs": [
        {
          "output_type": "execute_result",
          "data": {
            "text/plain": [
              "2.5"
            ]
          },
          "metadata": {},
          "execution_count": 26
        }
      ]
    },
    {
      "cell_type": "code",
      "source": [
        "res2 = y ** z"
      ],
      "metadata": {
        "id": "9QMJJAsIpnfJ"
      },
      "execution_count": 27,
      "outputs": []
    },
    {
      "cell_type": "markdown",
      "source": [
        "*****************************************************"
      ],
      "metadata": {
        "id": "Su1Bv9-jpxiW"
      }
    },
    {
      "cell_type": "code",
      "source": [
        "number = input (\"Please enter a number: \")\n",
        "num = int(number)\n",
        "if (num % 2) == 0:\n",
        "    print (\"The number is even\")\n",
        "else:\n",
        "    print (\"The number is odd\")"
      ],
      "metadata": {
        "colab": {
          "base_uri": "https://localhost:8080/"
        },
        "id": "4onoezU-p0wS",
        "outputId": "f56e3d9a-92ee-42ff-b7f3-2ee6c6e38f59"
      },
      "execution_count": 28,
      "outputs": [
        {
          "output_type": "stream",
          "name": "stdout",
          "text": [
            "Please enter a number: 5\n",
            "The number is odd\n"
          ]
        }
      ]
    },
    {
      "cell_type": "code",
      "source": [
        "s_score = input (\"Please enter your score: \")\n",
        "score = int(s_score)\n",
        "if (score>=50) :\n",
        "  print (\"pass\")\n",
        "else :\n",
        "  print (\"fail\")"
      ],
      "metadata": {
        "colab": {
          "base_uri": "https://localhost:8080/"
        },
        "id": "GlQsaiqxqbiE",
        "outputId": "3ec6937c-e65d-4348-9c43-2492a63a9168"
      },
      "execution_count": 29,
      "outputs": [
        {
          "output_type": "stream",
          "name": "stdout",
          "text": [
            "Please enter your score: 66\n",
            "pass\n"
          ]
        }
      ]
    },
    {
      "cell_type": "code",
      "source": [
        "num_1 = input (\"Please enter a number: \")\n",
        "num_2 = input (\"Please enter a number: \")\n",
        "num_3 = input (\"Please enter a number: \")\n",
        "number1 = int(num_1)\n",
        "number2 = int(num_2)\n",
        "number3 = int(num_3)\n",
        "if (number1 > number2) and (number1 > number3):\n",
        "  largest = number1\n",
        "  print (\"The largest number is: \", largest)\n",
        "elif (number2 > number1) and (number2 > number3):\n",
        "  largest = number2\n",
        "  print (\"The largest number is: \", largest)\n",
        "else:\n",
        "  largest = number3\n",
        "  print (\"The largest number is: \", largest)"
      ],
      "metadata": {
        "colab": {
          "base_uri": "https://localhost:8080/"
        },
        "id": "BgsOfKTwq2wh",
        "outputId": "17537373-a6ff-4015-cc17-2db11035a2ca"
      },
      "execution_count": 31,
      "outputs": [
        {
          "output_type": "stream",
          "name": "stdout",
          "text": [
            "Please enter a number: 65\n",
            "Please enter a number: 25\n",
            "Please enter a number: 39\n",
            "The largest number is:  65\n"
          ]
        }
      ]
    },
    {
      "cell_type": "code",
      "source": [
        "for i in range (1,11):\n",
        "  print (i)\n"
      ],
      "metadata": {
        "colab": {
          "base_uri": "https://localhost:8080/"
        },
        "id": "OXTmAbrOq0cx",
        "outputId": "ceeadbc3-a347-49e8-e982-dcc600f813f4"
      },
      "execution_count": 36,
      "outputs": [
        {
          "output_type": "stream",
          "name": "stdout",
          "text": [
            "1\n",
            "2\n",
            "3\n",
            "4\n",
            "5\n",
            "6\n",
            "7\n",
            "8\n",
            "9\n",
            "10\n"
          ]
        }
      ]
    },
    {
      "cell_type": "code",
      "source": [
        "scoree=input(\"Please enter your score: \")\n",
        "score=int(scoree)\n",
        "if (score>=90 and score <=100):\n",
        "    print(\"Your grade is A\")\n",
        "elif (score>=80 and score<=89):\n",
        "    print(\"Your grade is B\")\n",
        "elif (score>=70 and score<=79):\n",
        "    print(\"Your grade is C\")\n",
        "elif (score>=60 and score<=69):\n",
        "    print(\"Your grade is D\")\n",
        "elif (score>=0 and score<=59):\n",
        "    print(\"Your grade is F\")\n",
        "else:\n",
        "    print(\"Invalid input\")"
      ],
      "metadata": {
        "colab": {
          "base_uri": "https://localhost:8080/"
        },
        "id": "xolLA3pEsXF8",
        "outputId": "c2137bd5-3449-4cf9-bfec-be5404833841"
      },
      "execution_count": 40,
      "outputs": [
        {
          "output_type": "stream",
          "name": "stdout",
          "text": [
            "Please enter your score: 56\n",
            "Your grade is F\n"
          ]
        }
      ]
    },
    {
      "cell_type": "code",
      "source": [
        "numm = input(\"Please enter a number: \")\n",
        "number = int(numm)\n",
        "for i in range(1, 11):\n",
        "  print (number * i)"
      ],
      "metadata": {
        "colab": {
          "base_uri": "https://localhost:8080/"
        },
        "id": "FVvQm4iEt8WU",
        "outputId": "f934b3c3-8ed9-4f07-9c7f-377510e4dceb"
      },
      "execution_count": 41,
      "outputs": [
        {
          "output_type": "stream",
          "name": "stdout",
          "text": [
            "Please enter a number: 6\n",
            "6\n",
            "12\n",
            "18\n",
            "24\n",
            "30\n",
            "36\n",
            "42\n",
            "48\n",
            "54\n",
            "60\n"
          ]
        }
      ]
    },
    {
      "cell_type": "code",
      "source": [
        "list1 = [ i for i in range (1, 51 , 2)]\n",
        "print(sum(list1))"
      ],
      "metadata": {
        "colab": {
          "base_uri": "https://localhost:8080/"
        },
        "id": "rGm6QGWXuf1T",
        "outputId": "a7ebebb5-a209-4cf7-b317-47a0026364f0"
      },
      "execution_count": 47,
      "outputs": [
        {
          "output_type": "stream",
          "name": "stdout",
          "text": [
            "625\n"
          ]
        }
      ]
    },
    {
      "cell_type": "code",
      "source": [
        "nummm = input(\"Please enter a number: \")\n",
        "numberr = int(nummm)\n",
        "factorial = 1\n",
        "while numberr > 0:\n",
        "  factorial *= numberr\n",
        "  numberr -= 1\n",
        "print(f\"The factorial is {factorial}\")"
      ],
      "metadata": {
        "colab": {
          "base_uri": "https://localhost:8080/"
        },
        "id": "LkIqS3XFvT_E",
        "outputId": "313b441f-4eb2-4432-8e74-3a897356d058"
      },
      "execution_count": 50,
      "outputs": [
        {
          "output_type": "stream",
          "name": "stdout",
          "text": [
            "Please enter a number: 5\n",
            "The factorial is 120\n"
          ]
        }
      ]
    }
  ]
}